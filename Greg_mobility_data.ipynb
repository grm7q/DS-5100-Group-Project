{
 "cells": [
  {
   "cell_type": "markdown",
   "id": "9971fb54-360e-46ae-a79e-c6f9501935e3",
   "metadata": {},
   "source": [
    "*Reading in Google Mobility Data: \n",
    "\n",
    "Note: data are read as \"percent change from baseline\"\n",
    "\n",
    "This was my R code: "
   ]
  },
  {
   "cell_type": "markdown",
   "id": "f15f7d49-9f0e-4c0e-9925-11261b750b38",
   "metadata": {},
   "source": [
    "google_mobility <- read_csv(url(\"https://www.gstatic.com/covid19/mobility/Global_Mobility_Report.csv?cachebust=6d352e35dcffafce\"), col_types = cols(.default = \"c\"))  %>%\n",
    "  #read_csv(url(\"https://www.gstatic.com/covid19/mobility/Global_Mobility_Report.csv?cachebust=d58b419300b3a884\"), col_types = cols(.default = \"c\"))  %>%\n",
    "  filter(country_region_code == \"US\") %>%\n",
    "  mutate(date = as.Date(date)) %>%\n",
    "  rename(\"country_code\" = \"country_region_code\") %>%\n",
    "  rename(\"country_name\" = \"country_region\") %>%\n",
    "  rename(\"state\" = \"sub_region_1\") %>%\n",
    "  rename(\"county\" = \"sub_region_2\") %>%\n",
    "  rename(\"retail\" = \"retail_and_recreation_percent_change_from_baseline\") %>%\n",
    "  rename(\"grocerypharm\" = \"grocery_and_pharmacy_percent_change_from_baseline\") %>%\n",
    "  rename(\"parks\" = \"parks_percent_change_from_baseline\" ) %>%\n",
    "  rename(\"transit_stations\" = \"transit_stations_percent_change_from_baseline\") %>%\n",
    "  rename(\"workplaces\" = \"workplaces_percent_change_from_baseline\" ) %>%\n",
    "  rename(\"residential\" = \"residential_percent_change_from_baseline\")%>%\n",
    "  mutate(retail = as.numeric(retail)) %>%\n",
    "    mutate(grocerypharm = as.numeric(grocerypharm)) %>%\n",
    "    mutate(parks = as.numeric(parks)) %>%\n",
    "    mutate(transit_stations = as.numeric(transit_stations)) %>%\n",
    "    mutate(workplaces = as.numeric(workplaces)) %>%\n",
    "    mutate(residential = as.numeric(residential)) %>%\n",
    "  #making sure these data are on a per-county basis, not FIPS\n",
    "  group_by(date, state, county) %>%\n",
    "  summarize(census_fips_code =  paste(unique(census_fips_code), collapse = ', '), metro_area =  paste(unique(metro_area), collapse = ', '), retail = sum(na.rm=T,retail), grocerypharm = sum(na.rm=T,grocerypharm), parks = sum(na.rm=T,parks), transit_stations = sum(na.rm=T,transit_stations), workplaces = sum(na.rm=T,workplaces), residential = sum(na.rm=T,residential)) %>%\n",
    "  mutate(non_residential = retail + grocerypharm + parks + transit_stations + workplaces) %>%\n",
    "        #tidying county names so that they all line up\n",
    "    mutate(county = str_remove_all(county,\" County\")) %>%\n",
    "  mutate(county = str_remove_all(county, \"Parish\")) %>%\n",
    "    mutate(county = str_remove_all(county, \"Municipio\")) %>%\n",
    "    mutate(county = str_remove_all(county, \"City\")) %>%\n",
    "      mutate(county = str_remove_all(county, \"city\")) \n",
    "\n",
    "# colnames(google_mobility)\n",
    "# names(google_mobility) <- c(\"country_code\",  \"country_name\",  \"state\",  \"county\", \"iso_3166_2_code\", \"census_fips_code\", \"date\",  \"retail\",\n",
    "#                     \"grocerypharm\",  \"parks\",  \"transit_stations\",  \"workplaces\",  \"residential\")\n"
   ]
  },
  {
   "cell_type": "code",
   "execution_count": null,
   "id": "5af4dc80-33ca-4ceb-8b2c-95ea8c8872d3",
   "metadata": {},
   "outputs": [],
   "source": []
  },
  {
   "cell_type": "code",
   "execution_count": null,
   "id": "3175539e-41db-4cec-b00b-edc0b8712090",
   "metadata": {},
   "outputs": [],
   "source": []
  },
  {
   "cell_type": "code",
   "execution_count": null,
   "id": "2eea3ce3-c420-4407-9cea-291ff73a694c",
   "metadata": {},
   "outputs": [],
   "source": []
  },
  {
   "cell_type": "code",
   "execution_count": null,
   "id": "5a407a66-c1b6-428e-b3b9-ba91b2af422b",
   "metadata": {},
   "outputs": [],
   "source": []
  },
  {
   "cell_type": "code",
   "execution_count": null,
   "id": "6e010b4d-64c1-480d-b886-af922ed7df7d",
   "metadata": {},
   "outputs": [],
   "source": []
  },
  {
   "cell_type": "code",
   "execution_count": null,
   "id": "fe2fb0b2-f3ed-487d-9f93-39e992d5d318",
   "metadata": {},
   "outputs": [],
   "source": []
  }
 ],
 "metadata": {
  "kernelspec": {
   "display_name": "Python 3 (ipykernel)",
   "language": "python",
   "name": "python3"
  },
  "language_info": {
   "codemirror_mode": {
    "name": "ipython",
    "version": 3
   },
   "file_extension": ".py",
   "mimetype": "text/x-python",
   "name": "python",
   "nbconvert_exporter": "python",
   "pygments_lexer": "ipython3",
   "version": "3.8.8"
  }
 },
 "nbformat": 4,
 "nbformat_minor": 5
}
