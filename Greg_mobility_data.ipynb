{
 "cells": [
  {
   "cell_type": "markdown",
   "id": "9971fb54-360e-46ae-a79e-c6f9501935e3",
   "metadata": {},
   "source": [
    "*Reading in Google Mobility Data: \n",
    "\n",
    "Note: data are read as \"percent change from baseline\"\n",
    "\n",
    "This was my R code: "
   ]
  },
  {
   "cell_type": "code",
   "execution_count": null,
   "id": "8095da1d-76ef-4822-9ae2-3ab7f14b5436",
   "metadata": {},
   "outputs": [],
   "source": [
    "import pandas as pd\n",
    "import numpy as np \n",
    "import matplotlib.pyplot as plt\n",
    "%matplotlib inline \n",
    "import seaborn as sns\n",
    "import ipydatatable\n",
    "import unittest"
   ]
  },
  {
   "cell_type": "markdown",
   "id": "76b37fa9-8b5f-4543-bc32-d6fa425135b0",
   "metadata": {},
   "source": [
    "Reading in dataframe and filtering for State of Virginia"
   ]
  },
  {
   "cell_type": "code",
   "execution_count": null,
   "id": "5af4dc80-33ca-4ceb-8b2c-95ea8c8872d3",
   "metadata": {},
   "outputs": [],
   "source": [
    "#this takes a long while to run and is a huge file so I did this once and saved a smaller, csv file filtered to Virginia\n",
    "\n",
    "#Google_Mob = pd.read_csv(\"https://www.gstatic.com/covid19/mobility/Global_Mobility_Report.csv?cachebust=6d352e35dcffafce\")\n",
    "#Google_Mob_VA = Google_Mob[(Google_Mob.country_region == \"United States\") & (Google_Mob.sub_region_1 == \"Virginia\")] #filtering for Virginia, USA\n",
    "#del Google_Mob\n",
    "# Google_Mob_VA.to_csv(\"./google_mobility_VA.csv\")\n"
   ]
  },
  {
   "cell_type": "code",
   "execution_count": null,
   "id": "cc9a5390-06a2-40a2-9a54-44bda4c5a262",
   "metadata": {},
   "outputs": [],
   "source": [
    "#sometimes you need to try to run this chunk twice\n",
    "Google_Mob_VA = pd.read_csv(\"./google_mobility_VA.csv\")\n"
   ]
  },
  {
   "cell_type": "code",
   "execution_count": null,
   "id": "c08cc78c-4a24-42a8-a469-16784e680324",
   "metadata": {},
   "outputs": [],
   "source": [
    "Google_Mob_VA['date'] = pd.to_datetime(Google_Mob_VA['date']) #change to date format."
   ]
  },
  {
   "cell_type": "code",
   "execution_count": null,
   "id": "b07a4f59-ec85-4bc5-a763-f2630e616dff",
   "metadata": {},
   "outputs": [],
   "source": [
    "Google_Mob_VA.columns"
   ]
  },
  {
   "cell_type": "markdown",
   "id": "f8ed9e22-722e-4a31-9db1-a3035999ccd9",
   "metadata": {},
   "source": [
    "Renaming State, Counties"
   ]
  },
  {
   "cell_type": "code",
   "execution_count": null,
   "id": "13680ce2-4cb8-4913-b230-cef8e1e15a87",
   "metadata": {},
   "outputs": [],
   "source": [
    "Google_Mob_VA = Google_Mob_VA.rename(columns={\"sub_region_1\": \"state\", \"sub_region_2\": \"county\", \"retail_and_recreation_percent_change_from_baseline\": \"retail\", \"grocery_and_pharmacy_percent_change_from_baseline\":\"grocery\", \"parks_percent_change_from_baseline\": \"parks\",\"transit_stations_percent_change_from_baseline\": \"transit\", \"workplaces_percent_change_from_baseline\": \"workplaces\", \"residential_percent_change_from_baseline\": \"residential\"}) #rename state, county columns\n"
   ]
  },
  {
   "cell_type": "code",
   "execution_count": null,
   "id": "c39d9cef-0d6f-4bc0-a525-09ac2b8fb52c",
   "metadata": {},
   "outputs": [],
   "source": [
    "Google_Mob_VA = Google_Mob_VA.drop(['iso_3166_2_code', 'place_id', 'country_region_code', \"metro_area\"], axis=1) #dropping unnecessary columns"
   ]
  },
  {
   "cell_type": "code",
   "execution_count": null,
   "id": "32f2b9cc-dd84-48fe-9b39-57293afc7fd6",
   "metadata": {},
   "outputs": [],
   "source": [
    "#checking\n",
    "Google_Mob_VA.columns"
   ]
  },
  {
   "cell_type": "code",
   "execution_count": null,
   "id": "91f52a51-5f6a-4789-83dd-8cf18862c2d0",
   "metadata": {},
   "outputs": [],
   "source": [
    "Google_Mob_VA.dtypes"
   ]
  },
  {
   "cell_type": "code",
   "execution_count": null,
   "id": "0afe3e74-87e5-4a0f-b809-bfefded1ef77",
   "metadata": {},
   "outputs": [],
   "source": [
    "#using same masking technique that Wenwei employed here. \n",
    "start_date = '03-01-2020'\n",
    "end_date = '09-01-2020'\n",
    "\n",
    "mask = (Google_Mob_VA['date'] > start_date) & (Google_Mob_VA['date'] <= end_date)\n",
    "#assign mask to df to return the rows with _date between our specified start/end dates\n",
    "\n",
    "Google_Mob_VA_peakdates = Google_Mob_VA.loc[mask] #specified the date range to be within 1st 6 months of pandemic onset.\n",
    "#NYTCovid_peakdates"
   ]
  },
  {
   "cell_type": "markdown",
   "id": "563bc931-a466-4c04-9ac5-5ae7484131cc",
   "metadata": {},
   "source": [
    "Unit testing both the date column type and correct date range mask technique used above. "
   ]
  },
  {
   "cell_type": "code",
   "execution_count": 27,
   "id": "da0411de-8d02-49b4-a3dc-dc13f4c90e10",
   "metadata": {},
   "outputs": [
    {
     "name": "stderr",
     "output_type": "stream",
     "text": [
      "."
     ]
    },
    {
     "name": "stdout",
     "output_type": "stream",
     "text": [
      "count                            21406\n",
      "mean     2020-05-27 03:45:53.732598528\n",
      "min                2020-03-02 00:00:00\n",
      "25%                2020-04-13 00:00:00\n",
      "50%                2020-05-27 00:00:00\n",
      "75%                2020-07-10 00:00:00\n",
      "max                2020-09-01 00:00:00\n",
      "Name: date, dtype: object\n",
      "minimum date:  2020-03-02 00:00:00\n",
      "maximum date:  2020-09-01 00:00:00\n"
     ]
    },
    {
     "name": "stderr",
     "output_type": "stream",
     "text": [
      "\n",
      "----------------------------------------------------------------------\n",
      "Ran 1 test in 0.011s\n",
      "\n",
      "OK\n"
     ]
    }
   ],
   "source": [
    "#note you have to restart the kernel every time you try this or a new unittest\n",
    "class DatesTestCase(unittest.TestCase): \n",
    "    def test_1_datemask(self):\n",
    "        #checking/printing date range\n",
    "        print(Google_Mob_VA_peakdates.date.describe(datetime_is_numeric=True))\n",
    "            # must declare global objects to use within the class\n",
    "        #global Google_Mob_VA\n",
    "        #global mask\n",
    "        #Google_Mob_VA_peakdates = Google_Mob_VA.loc[mask]\n",
    "        expected_dates_start = pd.to_datetime('02-28-2020')\n",
    "        expected_dates_stop = pd.to_datetime('09-02-2020')\n",
    "        #checking that date column is indeed of the correct type: date\n",
    "        self.assertTrue(Google_Mob_VA_peakdates['date'].dtype == \"datetime64[ns]\")\n",
    "        #checking that date bounds are correct: \n",
    "        print(\"minimum date: \",Google_Mob_VA_peakdates['date'].min())\n",
    "        print(\"maximum date: \",Google_Mob_VA_peakdates['date'].max())\n",
    "        self.assertTrue(Google_Mob_VA_peakdates['date'].min()> expected_dates_start and Google_Mob_VA_peakdates['date'].max() < expected_dates_stop)\n",
    "if __name__ == '__main__':\n",
    "    unittest.main(argv=['first-arg-is-ignored'], exit=False) "
   ]
  },
  {
   "cell_type": "code",
   "execution_count": null,
   "id": "6a34cd5f-213b-4900-a855-49074dc78982",
   "metadata": {},
   "outputs": [],
   "source": [
    "display(Google_Mob_VA_peakdates)"
   ]
  },
  {
   "cell_type": "code",
   "execution_count": null,
   "id": "1a9a8202-cde1-46b9-a52b-8edaaabe237e",
   "metadata": {},
   "outputs": [],
   "source": [
    "#dropping rows with missing county data\n",
    "Google_Mob_VA_peakdates = Google_Mob_VA_peakdates.dropna(subset=['county'])"
   ]
  },
  {
   "cell_type": "code",
   "execution_count": null,
   "id": "3c446ff7-b0f6-4f1e-a05b-f3546da7b26c",
   "metadata": {},
   "outputs": [],
   "source": [
    "#Google_Mob_VA_peakdates.county.unique()\n",
    "Google_Mob_VA_peakdates[Google_Mob_VA_peakdates.county == 'Albemarle County'].date"
   ]
  },
  {
   "cell_type": "markdown",
   "id": "9c1afd18-4d08-43b7-8c4e-50314e6556f3",
   "metadata": {},
   "source": [
    "Basic plots for Sanity check"
   ]
  },
  {
   "cell_type": "code",
   "execution_count": null,
   "id": "922d90e4-a9e8-473c-af5c-fc698f461389",
   "metadata": {},
   "outputs": [],
   "source": [
    "\n",
    "\n",
    "plt.plot(Google_Mob_VA_peakdates[Google_Mob_VA_peakdates.county == 'Albemarle County'].date, Google_Mob_VA_peakdates[Google_Mob_VA_peakdates.county == 'Albemarle County'].retail)\n",
    "plt.show()"
   ]
  },
  {
   "cell_type": "markdown",
   "id": "8e810f8f-4bc8-4fa2-8e78-3e172026b8f1",
   "metadata": {},
   "source": [
    "melting by different mobility indices\n",
    "\n",
    "\n",
    "state                       object\n",
    "county                      object\n",
    "metro_area                 float64\n",
    "census_fips_code           float64\n",
    "date                datetime64[ns]\n",
    "retail                     float64\n",
    "grocery                    float64\n",
    "parks                      float64\n",
    "transit                    float64\n",
    "workplaces                 float64\n",
    "residential                float64"
   ]
  },
  {
   "cell_type": "markdown",
   "id": "ddd7da42-52da-44f4-8222-b635a257e022",
   "metadata": {},
   "source": [
    "Splitting mobility data into more generic groups: residential vs. non-residential"
   ]
  },
  {
   "cell_type": "code",
   "execution_count": null,
   "id": "17e0a66f-34d3-41eb-a450-c91cc501da07",
   "metadata": {},
   "outputs": [],
   "source": [
    "Google_Mob_VA_peakdates_grouped = Google_Mob_VA_peakdates.groupby(['date','state','county'], as_index=False).mean().sort_values([\"county\",\"date\"])\n",
    "#mutating new column which is the average non-residential mobility. \n",
    "Google_Mob_VA_peakdates_grouped['Non_Residential'] = Google_Mob_VA_peakdates_grouped[['retail', 'grocery','parks', 'transit', 'workplaces']].mean(axis=1)\n",
    "#adding a 7d moving average to non-residential smooth out the weekend effects and deal with NaN values\n",
    "Google_Mob_VA_peakdates_grouped['Non_Residential_7d_Rolling'] = Google_Mob_VA_peakdates_grouped['Non_Residential'].rolling(7).mean()\n",
    "#same for residential\n",
    "Google_Mob_VA_peakdates_grouped['Residential_7d_Rolling'] = Google_Mob_VA_peakdates_grouped['residential'].rolling(7).mean()\n",
    "Google_Mob_VA_peakdates_grouped"
   ]
  },
  {
   "cell_type": "code",
   "execution_count": null,
   "id": "de66cf55-fc86-4a7e-baf1-4d3209d04084",
   "metadata": {},
   "outputs": [],
   "source": [
    "#.reset_index() is equivalent to ungroup()\n",
    "Google_Mob_VA_peakdates_clean = Google_Mob_VA_peakdates_grouped.reset_index()\n",
    "Google_Mob_VA_peakdates_clean['date'] = pd.to_datetime(Google_Mob_VA_peakdates_clean['date']) #change to date format.\n",
    "Google_Mob_VA_peakdates_clean = Google_Mob_VA_peakdates_clean.sort_values([\"county\",\"date\"])\n",
    "#Google_Mob_VA_peakdates_clean['Non_Residential'] = Google_Mob_VA_peakdates_grouped[['retail', 'grocery','parks', 'transit', 'workplaces']].mean(axis=1)"
   ]
  },
  {
   "cell_type": "code",
   "execution_count": null,
   "id": "ca70f725-184a-44fb-92ed-d80a4d7359c3",
   "metadata": {},
   "outputs": [],
   "source": [
    "\n",
    "#Google_Mob_VA_peakdates_clean\n",
    "#ipydatatable.InteractiveTable(table =Google_Mob_VA_peakdates_clean)\n",
    "Google_Mob_VA_peakdates_clean"
   ]
  },
  {
   "cell_type": "markdown",
   "id": "bb0aa2fc-46be-42dc-a22f-869a7a7dd6ca",
   "metadata": {},
   "source": [
    "Measuring minimum non-residential mobility over time for each county. "
   ]
  },
  {
   "cell_type": "code",
   "execution_count": null,
   "id": "754d8dc3-4ae6-4d2a-936f-69cf7462b42f",
   "metadata": {},
   "outputs": [],
   "source": [
    "\n",
    "county_minimums = Google_Mob_VA_peakdates_clean.groupby('county', as_index=False)['Non_Residential_7d_Rolling'].min()\n",
    "county_minimums = county_minimums.reindex(columns=county_minimums.columns)\n",
    "county_minimums.columns = ['county', 'Minimum_Non_Residential_7d_Rolling']\n",
    "county_minimums\n",
    "Google_Mob_VA_peakdates_clean = Google_Mob_VA_peakdates_clean.merge(county_minimums, on='county', how='left')\n",
    "Google_Mob_VA_peakdates_clean['Low_Point_Mobility'] = 0\n",
    "Google_Mob_VA_peakdates_clean.Low_Point_Mobility[Google_Mob_VA_peakdates_clean.Minimum_Non_Residential_7d_Rolling == Google_Mob_VA_peakdates_clean.Non_Residential_7d_Rolling] =1\n",
    "\n",
    "Google_Mob_VA_peakdates_clean"
   ]
  },
  {
   "cell_type": "code",
   "execution_count": null,
   "id": "165300ec-a6bb-472c-8587-3633ca38156f",
   "metadata": {},
   "outputs": [],
   "source": [
    "Google_Mob_VA_peakdates_clean[Google_Mob_VA_peakdates_clean.Low_Point_Mobility==1].sort_values('county').head(130)"
   ]
  },
  {
   "cell_type": "code",
   "execution_count": null,
   "id": "41411cb3-5e2a-4ae5-ae52-60d868259b89",
   "metadata": {},
   "outputs": [],
   "source": [
    "\n",
    "#writing cleaned dataset to csv\n",
    "Google_Mob_VA_peakdates_clean.to_csv(\"./Google_Mob_VA_peakdates_clean.csv\")\n",
    "\n",
    "#writing county minimums dataset to csv\n",
    "county_minimums.to_csv(\"./county_minimums.csv\")\n"
   ]
  },
  {
   "cell_type": "code",
   "execution_count": null,
   "id": "9b117dd7-3bd2-439a-a7bd-14f7adc5a730",
   "metadata": {},
   "outputs": [],
   "source": [
    "Google_Mob_VA_peakdates_clean_melted_all = pd.melt(Google_Mob_VA_peakdates_clean, id_vars = ['state','county', 'date'], value_vars=['retail', 'grocery','parks', 'transit', 'workplaces','residential','Non_Residential'])\n",
    "Google_Mob_VA_peakdates_clean_melted_all\n",
    "Google_Mob_VA_peakdates_clean_melted_residential = pd.melt(Google_Mob_VA_peakdates_clean, id_vars = ['state','county', 'date'], value_vars=['residential','Non_Residential'])\n",
    "Google_Mob_VA_peakdates_clean_melted_residential\n",
    "Google_Mob_VA_peakdates_clean_melted_residential_rollmean = pd.melt(Google_Mob_VA_peakdates_clean, id_vars = ['state','county', 'date'], value_vars=['Non_Residential', 'Non_Residential_7d_Rolling'])\n",
    "Google_Mob_VA_peakdates_clean_melted_residential_rollmean\n"
   ]
  },
  {
   "cell_type": "code",
   "execution_count": null,
   "id": "586d8fad-0ab2-44e4-b9c4-b39d0085a369",
   "metadata": {},
   "outputs": [],
   "source": [
    "g = Google_Mob_VA_peakdates_clean_melted_all[Google_Mob_VA_peakdates_clean_melted_all.county == 'Albemarle County'].pivot(index=\"date\", columns=[\"variable\"], values=\"value\").plot()\n",
    "g= g.legend(loc='best',bbox_to_anchor=(0.8, 0., 0.6, 0.8))\n",
    "plt.ylabel(\"Percent Change from Baseline\")\n",
    "plt.xlabel(\"\")\n",
    "plt.show()\n"
   ]
  },
  {
   "cell_type": "markdown",
   "id": "2a0ce884-2052-4112-8207-fde9d026650c",
   "metadata": {},
   "source": [
    "Showing average Residential vs. Non-Residential Mobility for single county (Albemarle) over time. Note the significant effect of weekends leading to spikes in mobility. Note there are a good amount of missing data for residential mobility. Probably related to privacy scrubbing. "
   ]
  },
  {
   "cell_type": "code",
   "execution_count": null,
   "id": "106aa2dc-5adf-4214-84fb-1a6b5bbc9ab6",
   "metadata": {},
   "outputs": [],
   "source": [
    "g = Google_Mob_VA_peakdates_clean_melted_residential[Google_Mob_VA_peakdates_clean_melted_residential.county == 'Albemarle County'].pivot(index=\"date\", columns=[\"variable\"], values=\"value\").plot()\n",
    "g= g.legend(loc='best',bbox_to_anchor=(0.8, 0., 0.6, 0.8))\n",
    "plt.ylabel(\"Percent Change from Baseline\")\n",
    "plt.xlabel(\"\")\n",
    "plt.show()\n"
   ]
  },
  {
   "cell_type": "markdown",
   "id": "df74b82e-1e3c-43a6-a288-1cbd0097f93a",
   "metadata": {},
   "source": [
    "Now showing raw Non-Residential Data as a 7-day rolling mean. I think this looks a lot better. "
   ]
  },
  {
   "cell_type": "code",
   "execution_count": null,
   "id": "cb3f3fbe-af98-4005-92b3-d3e9adba9e8e",
   "metadata": {},
   "outputs": [],
   "source": [
    "g = Google_Mob_VA_peakdates_clean_melted_residential_rollmean[Google_Mob_VA_peakdates_clean_melted_residential_rollmean.county == 'Albemarle County'].pivot(index=\"date\", columns=[\"variable\"], values=\"value\").plot()\n",
    "g= g.legend(loc='best',bbox_to_anchor=(0.8, 0., 0.6, 0.8))\n",
    "plt.ylabel(\"Percent Change from Baseline\")\n",
    "plt.xlabel(\"\")\n",
    "plt.show()\n",
    "\n",
    "\n",
    "\n",
    "\n"
   ]
  },
  {
   "cell_type": "code",
   "execution_count": null,
   "id": "9cbd09cb-b9db-4cdd-bfc1-0c2b150040f9",
   "metadata": {},
   "outputs": [],
   "source": [
    "# Create a grid : initialize it\n",
    "\n",
    "sns.set_theme(style=\"ticks\")\n",
    "\n",
    "dots = sns.load_dataset(\"dots\")\n",
    "\n",
    "# Plot the lines on two facets\n",
    "g=sns.relplot(\n",
    "    data=Google_Mob_VA_peakdates_clean_melted_residential_rollmean,\n",
    "    x=\"date\", y=\"value\",\n",
    "    hue=\"variable\",  col=\"county\",\n",
    "    kind=\"line\",  col_wrap =7,\n",
    "    height=5, aspect=.75, facet_kws=dict(sharex=True),\n",
    ")\n",
    "g = g.set_titles(col_template = '{col_name}')\n",
    "g.title(\"Google Mobility Changes by County\")\n",
    "#g.ylabel()\n",
    "#g.xlabel(\"\")\n",
    "g.set_axis_labels(x_var=\"Date\", y_var=\"Percent Change from Baseline\")\n",
    "g.show()\n",
    "g.savefig(\"mobility_plot.png\")\n",
    "#g.show()\n",
    "#sns.*plot*?\n",
    "\n"
   ]
  },
  {
   "cell_type": "markdown",
   "id": "fbbe2445-9fe0-4b11-8060-3668f83cf474",
   "metadata": {},
   "source": [
    "writing melted dataset to csv as well"
   ]
  },
  {
   "cell_type": "code",
   "execution_count": null,
   "id": "546b89d5-7581-42b1-9210-548ecce92290",
   "metadata": {},
   "outputs": [],
   "source": [
    "Google_Mob_VA_peakdates_clean.to_csv(\"./Google_Mob_VA_peakdates_clean.csv\")\n",
    "Google_Mob_VA_peakdates_clean"
   ]
  },
  {
   "cell_type": "markdown",
   "id": "0c065d0a-cff2-4bd2-9a7c-0f4591dc0eb2",
   "metadata": {},
   "source": [
    "Now creatining state-wide dataset for mobility."
   ]
  },
  {
   "cell_type": "code",
   "execution_count": null,
   "id": "fb35fd8e-924f-4057-869a-ac5768a5dfa8",
   "metadata": {},
   "outputs": [],
   "source": [
    "ipydatatable.InteractiveTable(table =Google_Mob_VA_peakdates_clean)"
   ]
  },
  {
   "cell_type": "markdown",
   "id": "ad006031-134a-4c3b-a888-513353eac33f",
   "metadata": {},
   "source": [
    "To dos: \n",
    "-create dataset and plot for entire state of virginia\n",
    "-calculate largest reduction in mobility by county"
   ]
  },
  {
   "cell_type": "code",
   "execution_count": null,
   "id": "c191d748-242f-431f-a626-7ffd969052a9",
   "metadata": {},
   "outputs": [],
   "source": [
    "#grouping by just state this time. \n",
    "Google_Mob_VA_peakdates_grouped_all_state = Google_Mob_VA_peakdates.groupby(['state',\"date\"], as_index=False).mean().sort_values([\"date\"])\n",
    "#mutating the new average non-residential mobility. \n",
    "Google_Mob_VA_peakdates_grouped_all_state['Non_Residential'] = Google_Mob_VA_peakdates_grouped_all_state[['retail', 'grocery','parks', 'transit', 'workplaces']].mean(axis=1)\n",
    "#adding a 7d moving average to non-residential smooth out the weekend effects and deal with NaN values\n",
    "Google_Mob_VA_peakdates_grouped_all_state['Non_Residential_7d_Rolling'] = Google_Mob_VA_peakdates_grouped_all_state['Non_Residential'].rolling(7).mean()\n",
    "#same for residential\n",
    "Google_Mob_VA_peakdates_grouped_all_state['Residential_7d_Rolling'] = Google_Mob_VA_peakdates_grouped_all_state['residential'].rolling(7).mean()\n",
    "Google_Mob_VA_peakdates_grouped_all_state = Google_Mob_VA_peakdates_grouped_all_state.reset_index()"
   ]
  },
  {
   "cell_type": "markdown",
   "id": "d24518aa-ac46-4b1b-90f5-68e89c60f83c",
   "metadata": {},
   "source": [
    "QUESTION 1: In Virginia, when is the largest trough in mobility? \n",
    "\n",
    "Plotting whole state rollmean"
   ]
  },
  {
   "cell_type": "code",
   "execution_count": null,
   "id": "e0c90ff6-392a-44cd-a063-e19e6469f0ab",
   "metadata": {},
   "outputs": [],
   "source": [
    "Google_Mob_VA_peakdates_grouped_all_state"
   ]
  },
  {
   "cell_type": "code",
   "execution_count": null,
   "id": "9bda84e5-5d59-4e9c-a5f4-2675c8b1185f",
   "metadata": {},
   "outputs": [],
   "source": [
    "plt.plot(Google_Mob_VA_peakdates_grouped_all_state.date, Google_Mob_VA_peakdates_grouped_all_state.Non_Residential_7d_Rolling)\n",
    "#show vertical line at 2020-04-15 00:00:00 and horizontal line at -26.047695\n",
    "plt.axhline(y=-26.047695, linewidth=1, color = 'r')\n",
    "plt.axvline(x= pd.to_datetime(\"2020-04-15\", infer_datetime_format=True), linewidth=1, color = 'r')\n",
    "plt.annotate('April 15, 2020 Maximum \\n26% Reduction: Non-Residential Mobility',\n",
    "            xy=(0.235, 0.04),\n",
    "            xycoords='axes fraction',\n",
    "            xytext=(0.33, 0.25),\n",
    "            arrowprops=\n",
    "                dict(facecolor='black', shrink=0.05),\n",
    "                horizontalalignment='left',\n",
    "                verticalalignment='top')\n",
    "plt.title(\"Early Pandemic Mobility Changes in Virginia\")\n",
    "plt.ylabel(\"%Change Mobility vs. Pre-Pandemic, 7d Rolling Mean)\")\n",
    "plt.savefig(\"minimum_statewide_mobility.png\")\n",
    "plt.show()\n",
    "\n",
    "#Google_Mob_VA_peakdates_grouped_all_state.columns"
   ]
  },
  {
   "cell_type": "markdown",
   "id": "018840d0-be1a-48f3-9666-70884659b388",
   "metadata": {},
   "source": [
    "QUESTION 1 Cont.: Calculating the actual date of lowest 7d average non-residentialmobility"
   ]
  },
  {
   "cell_type": "code",
   "execution_count": null,
   "id": "73f37426-df38-4f4b-a32b-c2b4a104acac",
   "metadata": {},
   "outputs": [],
   "source": [
    "Google_Mob_VA_peakdates_grouped_all_state.loc[Google_Mob_VA_peakdates_grouped_all_state['Non_Residential_7d_Rolling'].idxmin()]\n",
    "#df.loc[df['Score'].idxmax()]\n"
   ]
  },
  {
   "cell_type": "code",
   "execution_count": null,
   "id": "b521fcbd-081d-4ccc-a89b-e8502822fa13",
   "metadata": {},
   "outputs": [],
   "source": []
  }
 ],
 "metadata": {
  "kernelspec": {
   "display_name": "Python 3 (ipykernel)",
   "language": "python",
   "name": "python3"
  },
  "language_info": {
   "codemirror_mode": {
    "name": "ipython",
    "version": 3
   },
   "file_extension": ".py",
   "mimetype": "text/x-python",
   "name": "python",
   "nbconvert_exporter": "python",
   "pygments_lexer": "ipython3",
   "version": "3.8.8"
  },
  "widgets": {
   "application/vnd.jupyter.widget-state+json": {
    "state": {},
    "version_major": 2,
    "version_minor": 0
   }
  }
 },
 "nbformat": 4,
 "nbformat_minor": 5
}
