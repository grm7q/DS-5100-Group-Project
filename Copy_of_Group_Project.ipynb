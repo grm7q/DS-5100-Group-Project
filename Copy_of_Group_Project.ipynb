{
  "nbformat": 4,
  "nbformat_minor": 0,
  "metadata": {
    "colab": {
      "name": "Copy of Group Project.ipynb",
      "provenance": [],
      "authorship_tag": "ABX9TyNvP63hhRlvz/IAwqdagN77",
      "include_colab_link": true
    },
    "kernelspec": {
      "name": "python3",
      "display_name": "Python 3"
    },
    "language_info": {
      "name": "python"
    }
  },
  "cells": [
    {
      "cell_type": "markdown",
      "metadata": {
        "id": "view-in-github",
        "colab_type": "text"
      },
      "source": [
        "<a href=\"https://colab.research.google.com/github/grm7q/DS-5100-Group-Project/blob/main/Copy_of_Group_Project.ipynb\" target=\"_parent\"><img src=\"https://colab.research.google.com/assets/colab-badge.svg\" alt=\"Open In Colab\"/></a>"
      ]
    },
    {
      "cell_type": "markdown",
      "source": [
        "This is the google collab for the DS 5100 Spring Semester Project. "
      ],
      "metadata": {
        "id": "dt3TAZJQE65r"
      }
    },
    {
      "cell_type": "code",
      "execution_count": null,
      "metadata": {
        "id": "zwZ-XCYYEI-G"
      },
      "outputs": [],
      "source": [
        ""
      ]
    }
  ]
}